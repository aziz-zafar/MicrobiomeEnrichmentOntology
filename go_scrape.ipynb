{
 "cells": [
  {
   "cell_type": "code",
   "execution_count": null,
   "metadata": {},
   "outputs": [],
   "source": [
    "from bs4 import BeautifulSoup\n",
    "import requests\n",
    "import re\n",
    "import pandas as pd"
   ]
  },
  {
   "cell_type": "code",
   "execution_count": null,
   "metadata": {},
   "outputs": [],
   "source": [
    "def get_parent(term):\n",
    "    url = f'https://amigo.geneontology.org/amigo/term/{term}#display-lineage-tab'\n",
    "    response = requests.get(url).text\n",
    "    soup = BeautifulSoup(response, 'html.parser')\n",
    "\n",
    "    try: \n",
    "        parent_element = soup.find('span', style='font-weight: bold;').get_text().split('\\xa0')\n",
    "        return parent_element\n",
    "    except:\n",
    "        return None"
   ]
  },
  {
   "cell_type": "code",
   "execution_count": null,
   "metadata": {},
   "outputs": [],
   "source": [
    "def get_children(term):\n",
    "    url = f'https://amigo.geneontology.org/amigo/term/{term}#display-lineage-tab'\n",
    "    response = requests.get(url).text\n",
    "    soup = BeautifulSoup(response, 'html.parser')\n",
    "\n",
    "    try:\n",
    "        elements = soup.find('img', title=re.compile(r'Current term')).find_all_next('a')\n",
    "\n",
    "        children = []\n",
    "        for element in elements:\n",
    "            if element.get_text().startswith('GO:'):\n",
    "                \n",
    "                children.append(element.get_text().split('\\xa0'))\n",
    "        return children\n",
    "\n",
    "    except:\n",
    "        return None\n",
    "\n",
    "b = get_children('GO:0008152')"
   ]
  },
  {
   "cell_type": "code",
   "execution_count": null,
   "metadata": {},
   "outputs": [],
   "source": [
    "import pandas as pd\n",
    "\n",
    "df = pd.DataFrame()\n",
    "\n",
    "all_go_ids = ['GO:0008152']\n",
    "processed_ids = []\n",
    "\n",
    "while all_go_ids:\n",
    "    current_id = all_go_ids[0]\n",
    "    all_go_ids.remove(current_id)\n",
    "    \n",
    "    if current_id in processed_ids:\n",
    "        continue  # Skip if already processed\n",
    "\n",
    "    child_data = get_children(current_id)\n",
    "    if child_data is not None:\n",
    "        child_df = pd.DataFrame(child_data, columns=['Child GO ID', 'Child Term'])\n",
    "\n",
    "        parent_data = get_parent(current_id)\n",
    "        if parent_data is not None:\n",
    "            child_df['Parent GO ID'] = parent_data[0]\n",
    "            child_df['Parent Term'] = parent_data[1]\n",
    "\n",
    "        if not child_df.empty:\n",
    "            df = pd.concat([df, child_df], ignore_index=True)\n",
    "\n",
    "        # Add child IDs to the processing queue\n",
    "        all_go_ids += child_df['Child GO ID'].tolist()\n",
    "        print(all_go_ids)\n",
    "\n",
    "    processed_ids.append(current_id)\n",
    "    print(\"Current ID:\", current_id)\n",
    "\n",
    "# Now, df contains the desired DataFrame\n"
   ]
  },
  {
   "cell_type": "code",
   "execution_count": null,
   "metadata": {},
   "outputs": [],
   "source": [
    "df.to_csv('go_hierarchy.csv', index=False)"
   ]
  }
 ],
 "metadata": {
  "kernelspec": {
   "display_name": "Python 3",
   "language": "python",
   "name": "python3"
  },
  "language_info": {
   "codemirror_mode": {
    "name": "ipython",
    "version": 3
   },
   "file_extension": ".py",
   "mimetype": "text/x-python",
   "name": "python",
   "nbconvert_exporter": "python",
   "pygments_lexer": "ipython3",
   "version": "3.11.5"
  }
 },
 "nbformat": 4,
 "nbformat_minor": 2
}
