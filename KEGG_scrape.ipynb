{
 "cells": [
  {
   "cell_type": "code",
   "execution_count": 2,
   "metadata": {},
   "outputs": [],
   "source": [
    "from bs4 import BeautifulSoup\n",
    "import requests\n",
    "import pandas as pd\n",
    "import re"
   ]
  },
  {
   "cell_type": "code",
   "execution_count": 3,
   "metadata": {},
   "outputs": [],
   "source": [
    "URL = 'https://www.genome.jp/kegg/pathway.html'\n",
    "response = requests.get(URL)\n",
    "soup = BeautifulSoup(response.content, \"html.parser\")"
   ]
  },
  {
   "cell_type": "code",
   "execution_count": 4,
   "metadata": {},
   "outputs": [],
   "source": [
    "pathways = soup.find_all(class_ = 'list')"
   ]
  },
  {
   "cell_type": "code",
   "execution_count": 5,
   "metadata": {},
   "outputs": [
    {
     "data": {
      "text/html": [
       "<div>\n",
       "<style scoped>\n",
       "    .dataframe tbody tr th:only-of-type {\n",
       "        vertical-align: middle;\n",
       "    }\n",
       "\n",
       "    .dataframe tbody tr th {\n",
       "        vertical-align: top;\n",
       "    }\n",
       "\n",
       "    .dataframe thead th {\n",
       "        text-align: right;\n",
       "    }\n",
       "</style>\n",
       "<table border=\"1\" class=\"dataframe\">\n",
       "  <thead>\n",
       "    <tr style=\"text-align: right;\">\n",
       "      <th></th>\n",
       "      <th>KEGG ID</th>\n",
       "      <th>Label</th>\n",
       "    </tr>\n",
       "  </thead>\n",
       "  <tbody>\n",
       "    <tr>\n",
       "      <th>0</th>\n",
       "      <td>01100</td>\n",
       "      <td>Metabolic pathways</td>\n",
       "    </tr>\n",
       "    <tr>\n",
       "      <th>1</th>\n",
       "      <td>01110</td>\n",
       "      <td>Biosynthesis of secondary metabolites</td>\n",
       "    </tr>\n",
       "    <tr>\n",
       "      <th>2</th>\n",
       "      <td>01120</td>\n",
       "      <td>Microbial metabolism in diverse environments</td>\n",
       "    </tr>\n",
       "    <tr>\n",
       "      <th>3</th>\n",
       "      <td>01200</td>\n",
       "      <td>Carbon metabolism</td>\n",
       "    </tr>\n",
       "    <tr>\n",
       "      <th>4</th>\n",
       "      <td>01210</td>\n",
       "      <td>2-Oxocarboxylic acid metabolism</td>\n",
       "    </tr>\n",
       "    <tr>\n",
       "      <th>...</th>\n",
       "      <td>...</td>\n",
       "      <td>...</td>\n",
       "    </tr>\n",
       "    <tr>\n",
       "      <th>561</th>\n",
       "      <td>07035</td>\n",
       "      <td>Prostaglandins</td>\n",
       "    </tr>\n",
       "    <tr>\n",
       "      <th>562</th>\n",
       "      <td>07110</td>\n",
       "      <td>Benzoic acid family</td>\n",
       "    </tr>\n",
       "    <tr>\n",
       "      <th>563</th>\n",
       "      <td>07112</td>\n",
       "      <td>1,2-Diphenyl substitution family</td>\n",
       "    </tr>\n",
       "    <tr>\n",
       "      <th>564</th>\n",
       "      <td>07114</td>\n",
       "      <td>Naphthalene family</td>\n",
       "    </tr>\n",
       "    <tr>\n",
       "      <th>565</th>\n",
       "      <td>07117</td>\n",
       "      <td>Benzodiazepine family</td>\n",
       "    </tr>\n",
       "  </tbody>\n",
       "</table>\n",
       "<p>566 rows × 2 columns</p>\n",
       "</div>"
      ],
      "text/plain": [
       "    KEGG ID                                         Label\n",
       "0     01100                            Metabolic pathways\n",
       "1     01110         Biosynthesis of secondary metabolites\n",
       "2     01120  Microbial metabolism in diverse environments\n",
       "3     01200                             Carbon metabolism\n",
       "4     01210               2-Oxocarboxylic acid metabolism\n",
       "..      ...                                           ...\n",
       "561   07035                                Prostaglandins\n",
       "562   07110                           Benzoic acid family\n",
       "563   07112              1,2-Diphenyl substitution family\n",
       "564   07114                            Naphthalene family\n",
       "565   07117                         Benzodiazepine family\n",
       "\n",
       "[566 rows x 2 columns]"
      ]
     },
     "execution_count": 5,
     "metadata": {},
     "output_type": "execute_result"
    }
   ],
   "source": [
    "ids_final = []\n",
    "pathways_final = []\n",
    "\n",
    "for pathway in pathways:\n",
    "    id_nums = pathway.find_all('dt')\n",
    "    for id_ in id_nums:\n",
    "        id_line = str(id_).split('<dt>')\n",
    "        id_num = id_line[1][:5]\n",
    "        ids_final.append(id_num)\n",
    "    \n",
    "    path_names = pathway.find_all('a')\n",
    "    for path in path_names:\n",
    "        path_line = str(path).split('>')\n",
    "        \n",
    "        if bool(re.search('\\+M.{5}', path_line[0])):\n",
    "            #print('hi')\n",
    "            continue\n",
    "        else:\n",
    "            #print(path_line[0])\n",
    "            path = path_line[1].strip('</a')\n",
    "            pathways_final.append(path)\n",
    "\n",
    "KEGG_df = pd.DataFrame({'KEGG ID': ids_final, 'Label': pathways_final[:566]})\n",
    "KEGG_df"
   ]
  },
  {
   "cell_type": "code",
   "execution_count": 6,
   "metadata": {},
   "outputs": [],
   "source": [
    "KEGG_df.to_csv('KEGG_pathways.csv')"
   ]
  }
 ],
 "metadata": {
  "kernelspec": {
   "display_name": "Python 3",
   "language": "python",
   "name": "python3"
  },
  "language_info": {
   "codemirror_mode": {
    "name": "ipython",
    "version": 3
   },
   "file_extension": ".py",
   "mimetype": "text/x-python",
   "name": "python",
   "nbconvert_exporter": "python",
   "pygments_lexer": "ipython3",
   "version": "3.11.5"
  }
 },
 "nbformat": 4,
 "nbformat_minor": 4
}
